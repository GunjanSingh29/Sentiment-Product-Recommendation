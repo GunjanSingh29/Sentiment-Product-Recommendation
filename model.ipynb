{
 "cells": [
  {
   "cell_type": "markdown",
   "id": "0ac59f1d",
   "metadata": {},
   "source": [
    "## Final Sentiment and Recommendation Model with  with the code to deploy the end-to-end project using Flask and Heroku"
   ]
  },
  {
   "cell_type": "code",
   "execution_count": 1,
   "id": "b638ee1b",
   "metadata": {},
   "outputs": [],
   "source": [
    "# Supress Warnings\n",
    "import warnings\n",
    "warnings.filterwarnings('ignore')"
   ]
  },
  {
   "cell_type": "code",
   "execution_count": 2,
   "id": "5a425b9b",
   "metadata": {},
   "outputs": [],
   "source": [
    "import pickle as pkl\n",
    "from nltk.tokenize import word_tokenize"
   ]
  },
  {
   "cell_type": "markdown",
   "id": "311475be",
   "metadata": {},
   "source": [
    "## import all pickle files\n",
    "#### xbg.pkl - sentiment analysis XGBoost model pickle file\n",
    "#### tfidf.pkl - tfidf vectorizer \n",
    "#### transform.pkl - this pickle file after text cleaning\n",
    "#### user_recommendation.pkl - user based recommendation model"
   ]
  },
  {
   "cell_type": "code",
   "execution_count": 3,
   "id": "879cb8d9",
   "metadata": {},
   "outputs": [],
   "source": [
    "xgb        = pkl.load(open('models/Xgboost.pkl','rb'))\n",
    "tfidf      = pkl.load(open('models/tfidf.pkl','rb'))\n",
    "transform  = pkl.load(open('dataset/transform.pkl','rb'))\n",
    "user_recom = pkl.load(open('models/user_recommendation.pkl','rb'))"
   ]
  },
  {
   "cell_type": "code",
   "execution_count": 4,
   "id": "e65ff7ff",
   "metadata": {},
   "outputs": [],
   "source": [
    "def sentiment(recom_prod):\n",
    "    df = transform[transform.name.isin(recom_prod)]\n",
    "    features = tfidf.transform(df['text'])\n",
    "    pred_data = xgb.predict(features)\n",
    "    predictions = [round(value) for value in pred_data]\n",
    "    df['predicted'] = predictions\n",
    "    output_data = df[df['predicted']==1][['name', 'brand', 'categories']].drop_duplicates()[:5].reset_index(drop=True)\n",
    "    \n",
    "    return output_data"
   ]
  },
  {
   "cell_type": "code",
   "execution_count": 5,
   "id": "373976ec",
   "metadata": {},
   "outputs": [],
   "source": [
    "def recommendation(user_input):\n",
    "    recom = user_recom.loc[user_input].sort_values(ascending=False)[0:20].index\n",
    "    return recom"
   ]
  },
  {
   "cell_type": "code",
   "execution_count": 10,
   "id": "d3fbd5ab",
   "metadata": {},
   "outputs": [],
   "source": [
    "# Take the user ID as input.\n",
    "#user_input = input(\"Enter your user name\")\n",
    "#print(user_input)"
   ]
  },
  {
   "cell_type": "code",
   "execution_count": null,
   "id": "b32340a0",
   "metadata": {},
   "outputs": [],
   "source": []
  }
 ],
 "metadata": {
  "kernelspec": {
   "display_name": "Python 3",
   "language": "python",
   "name": "python3"
  },
  "language_info": {
   "codemirror_mode": {
    "name": "ipython",
    "version": 3
   },
   "file_extension": ".py",
   "mimetype": "text/x-python",
   "name": "python",
   "nbconvert_exporter": "python",
   "pygments_lexer": "ipython3",
   "version": "3.8.8"
  }
 },
 "nbformat": 4,
 "nbformat_minor": 5
}
